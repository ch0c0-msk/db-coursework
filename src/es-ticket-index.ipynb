{
 "cells": [
  {
   "cell_type": "code",
   "execution_count": 1,
   "metadata": {},
   "outputs": [],
   "source": [
    "from elasticsearch import Elasticsearch\n",
    "import json"
   ]
  },
  {
   "cell_type": "code",
   "execution_count": 2,
   "metadata": {},
   "outputs": [
    {
     "data": {
      "text/plain": [
       "True"
      ]
     },
     "execution_count": 2,
     "metadata": {},
     "output_type": "execute_result"
    }
   ],
   "source": [
    "client = Elasticsearch([{'host': 'localhost', 'port': 9200, 'scheme' : 'http'}])\n",
    "client.ping()"
   ]
  },
  {
   "cell_type": "code",
   "execution_count": 3,
   "metadata": {},
   "outputs": [],
   "source": [
    "indexName = \"ticket\"\n",
    "if client.indices.exists(index=indexName):\n",
    "    client.indices.delete(index=indexName)"
   ]
  },
  {
   "cell_type": "code",
   "execution_count": 4,
   "metadata": {},
   "outputs": [],
   "source": [
    "ticket_settings = {\n",
    "  \"settings\": {\n",
    "    \"analysis\": {\n",
    "      \"filter\": {\n",
    "        \"ru_stop\": {\n",
    "          \"type\": \"stop\",\n",
    "          \"stopwords\": \"_russian_\"\n",
    "        },\n",
    "        \"snow_ru_stemmer\": {\n",
    "          \"type\": \"snowball\",\n",
    "          \"language\": \"russian\"\n",
    "        }\n",
    "      },\n",
    "      \"analyzer\": {\n",
    "        \"custom_analyzer\": {\n",
    "          \"type\": \"custom\",\n",
    "          \"tokenizer\": \"standard\",\n",
    "          \"filter\": [\n",
    "            \"lowercase\",\n",
    "            \"ru_stop\",\n",
    "            \"snow_ru_stemmer\"\n",
    "          ]\n",
    "        }\n",
    "      }\n",
    "    }\n",
    "  }\n",
    "}"
   ]
  },
  {
   "cell_type": "code",
   "execution_count": 5,
   "metadata": {},
   "outputs": [],
   "source": [
    "ticket_mappings = {\n",
    "    \"mappings\": {\n",
    "        \"properties\": {\n",
    "            \"user_id\": {\"type\": \"text\"},\n",
    "            \"personal\": {\"type\": \"text\", \"analyzer\": \"custom_analyzer\"},\n",
    "            \"date_purchase\": {\"type\": \"date\"},\n",
    "            \"price\": {\"type\": \"float\"},\n",
    "            \"train_id\": {\"type\": \"integer\"}\n",
    "        }\n",
    "    }\n",
    "}"
   ]
  },
  {
   "cell_type": "code",
   "execution_count": 6,
   "metadata": {},
   "outputs": [
    {
     "data": {
      "text/plain": [
       "ObjectApiResponse({'acknowledged': True, 'shards_acknowledged': True, 'index': 'ticket'})"
      ]
     },
     "execution_count": 6,
     "metadata": {},
     "output_type": "execute_result"
    }
   ],
   "source": [
    "client.indices.create(index=indexName, body={**ticket_settings, **ticket_mappings})"
   ]
  },
  {
   "cell_type": "code",
   "execution_count": 7,
   "metadata": {},
   "outputs": [],
   "source": [
    "with open('../data/tickets.json', 'r') as f:\n",
    "    trains = json.load(f)\n",
    "\n",
    "for data in trains:\n",
    "    try:\n",
    "        client.index(\n",
    "            index=data[\"index\"],\n",
    "            id=data[\"id\"],\n",
    "            body=data[\"body\"]\n",
    "        )\n",
    "    except Exception as e:\n",
    "        print(e, end=\"\")"
   ]
  },
  {
   "cell_type": "code",
   "execution_count": 8,
   "metadata": {},
   "outputs": [],
   "source": [
    "search_query = {\n",
    "    \"query\": {\n",
    "        \"match_all\": {}\n",
    "    }\n",
    "}\n",
    "search_results = client.search(index=indexName, body=search_query)\n",
    "hits = search_results[\"hits\"][\"hits\"]\n",
    "for hit in hits:\n",
    "    print(hit[\"_source\"])"
   ]
  }
 ],
 "metadata": {
  "kernelspec": {
   "display_name": "Python 3",
   "language": "python",
   "name": "python3"
  },
  "language_info": {
   "codemirror_mode": {
    "name": "ipython",
    "version": 3
   },
   "file_extension": ".py",
   "mimetype": "text/x-python",
   "name": "python",
   "nbconvert_exporter": "python",
   "pygments_lexer": "ipython3",
   "version": "3.10.12"
  },
  "orig_nbformat": 4
 },
 "nbformat": 4,
 "nbformat_minor": 2
}
