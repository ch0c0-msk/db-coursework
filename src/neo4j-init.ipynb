{
 "cells": [
  {
   "cell_type": "code",
   "execution_count": 1,
   "metadata": {},
   "outputs": [],
   "source": [
    "import json\n",
    "from elasticsearch import Elasticsearch\n",
    "from py2neo import Graph, Node, Relationship"
   ]
  },
  {
   "cell_type": "code",
   "execution_count": 2,
   "metadata": {},
   "outputs": [
    {
     "data": {
      "text/plain": [
       "True"
      ]
     },
     "execution_count": 2,
     "metadata": {},
     "output_type": "execute_result"
    }
   ],
   "source": [
    "client = Elasticsearch([{'host': 'localhost', 'port': 9200, 'scheme' : 'http'}])\n",
    "client.ping()"
   ]
  },
  {
   "cell_type": "code",
   "execution_count": 3,
   "metadata": {},
   "outputs": [],
   "source": [
    "graph_db = Graph(\"bolt://localhost:7687\")"
   ]
  },
  {
   "cell_type": "code",
   "execution_count": 4,
   "metadata": {},
   "outputs": [
    {
     "data": {
      "text/plain": [
       "20"
      ]
     },
     "execution_count": 4,
     "metadata": {},
     "output_type": "execute_result"
    }
   ],
   "source": [
    "searchBody = {\n",
    "  \"size\": 100,\n",
    "  \"_source\": True,\n",
    "  \"query\": {\n",
    "    \"match_all\": {}\n",
    "  }\n",
    "}\n",
    "\n",
    "result = client.search(index=\"train\", body=searchBody)\n",
    "trains = result['hits']['hits']\n",
    "len(trains)"
   ]
  },
  {
   "cell_type": "code",
   "execution_count": 9,
   "metadata": {},
   "outputs": [
    {
     "name": "stdout",
     "output_type": "stream",
     "text": [
      "1)2 tickets\n",
      "2)6 tickets\n",
      "3)1 tickets\n",
      "4)2 tickets\n",
      "5)1 tickets\n",
      "6)2 tickets\n",
      "7)1 tickets\n",
      "8)0 tickets\n",
      "9)0 tickets\n",
      "10)3 tickets\n",
      "11)1 tickets\n",
      "12)1 tickets\n",
      "13)0 tickets\n",
      "14)2 tickets\n",
      "15)0 tickets\n",
      "16)1 tickets\n",
      "17)0 tickets\n",
      "18)5 tickets\n",
      "19)1 tickets\n",
      "20)1 tickets\n"
     ]
    }
   ],
   "source": [
    "i = 1\n",
    "for train in trains:\n",
    "    try:\n",
    "        print(f'{i})', end='')\n",
    "        TrainNode = Node(\"Train\",train_number=train['_source']['train_number'])\n",
    "        graph_db.create(TrainNode)\n",
    "        searchBody = {\n",
    "            \"size\": 100,\n",
    "            \"_source\": True,\n",
    "            \"query\": {\n",
    "                \"term\": {\n",
    "                    \"train_id\": train['_id']\n",
    "                }\n",
    "            }\n",
    "        }\n",
    "        result = client.search(index=\"ticket\", body=searchBody)\n",
    "        tickets = result['hits']['hits']\n",
    "        print(f'{len(tickets)} tickets')\n",
    "        user_nodes = {}\n",
    "        for ticket in tickets:\n",
    "            if ticket['_source']['user_id'] not in user_nodes:\n",
    "                UserNode = Node(\"Passenger\",passenger_id=ticket['_source']['user_id'], personal=ticket['_source']['personal'])\n",
    "                graph_db.create(UserNode)\n",
    "                user_nodes[ticket['_source']['user_id']] = UserNode\n",
    "            node = user_nodes[ticket['_source']['user_id']]\n",
    "            # NodesRelationship = Relationship(node, \"buy_ticket\",  TrainNode, date_purchase=ticket['_source']['date_purchase'], price=ticket['_source']['price'])\n",
    "            # graph_db.create(NodesRelationship)\n",
    "            relation_query = \"\"\"\n",
    "            MATCH (passenger:Passenger), (train:Train)\n",
    "            WHERE passenger.passenger_id = $passenger_id AND train.train_number = $train_number\n",
    "            CREATE (passenger)-[:buy_ticket {date_purchase: $date_purchase, price: $price}]->(train)\n",
    "            \"\"\"\n",
    "            parameters = {\n",
    "                \"passenger_id\": ticket['_source']['user_id'],\n",
    "                \"train_number\": train['_source']['train_number'],\n",
    "                \"date_purchase\": ticket['_source']['date_purchase'],\n",
    "                \"price\": ticket['_source']['price']\n",
    "            }\n",
    "            graph_db.run(relation_query, parameters)\n",
    "        i += 1\n",
    "    except Exception as e:\n",
    "        print(f'Exception: {e}')\n",
    "        continue"
   ]
  },
  {
   "attachments": {},
   "cell_type": "markdown",
   "metadata": {},
   "source": [
    "##### Удалить все записи в БД\n",
    "```\n",
    "MATCH (n) OPTIONAL MATCH (n)-[r]-() DELETE n,r\n",
    "```\n",
    "\n",
    "##### Выбрать поезда, пассажиры и связи между ними\n",
    "```\n",
    "MATCH (n) RETURN n\n",
    "```"
   ]
  },
  {
   "attachments": {},
   "cell_type": "markdown",
   "metadata": {},
   "source": [
    "##### Найти поезд, на который было приобретено больше всего билетов\n",
    "```\n",
    "MATCH (t:Train)<-[r:`buy_ticket`]-() WITH t, count(r) as cnt ORDER BY cnt DESC RETURN t.train_number, cnt LIMIT 1\n",
    "```"
   ]
  }
 ],
 "metadata": {
  "kernelspec": {
   "display_name": "Python 3",
   "language": "python",
   "name": "python3"
  },
  "language_info": {
   "codemirror_mode": {
    "name": "ipython",
    "version": 3
   },
   "file_extension": ".py",
   "mimetype": "text/x-python",
   "name": "python",
   "nbconvert_exporter": "python",
   "pygments_lexer": "ipython3",
   "version": "3.10.12"
  },
  "orig_nbformat": 4
 },
 "nbformat": 4,
 "nbformat_minor": 2
}
