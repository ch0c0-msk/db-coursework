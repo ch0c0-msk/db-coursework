{
 "cells": [
  {
   "cell_type": "code",
   "execution_count": 4,
   "metadata": {},
   "outputs": [],
   "source": [
    "import json\n",
    "import random\n",
    "from faker import Faker\n",
    "from datetime import datetime, timedelta\n",
    "from faker.providers import address"
   ]
  },
  {
   "cell_type": "code",
   "execution_count": 5,
   "metadata": {},
   "outputs": [],
   "source": [
    "fake = Faker(\"ru_RU\")\n",
    "\n",
    "def generate_seat_types():\n",
    "    seat_types = [\"плацкарт\", \"купе\", \"св\", \"люкс\"]\n",
    "    num = random.randint(1, len(seat_types))\n",
    "    types = random.sample(seat_types, num)\n",
    "    return ' '.join(types)\n",
    "\n",
    "def random_date(start_year, end_year):\n",
    "    random_year = random.randint(start_year, end_year)\n",
    "    random_day = random.randint(1, 365)\n",
    "    random_hour = random.randint(0, 23)\n",
    "    random_minute = random.randint(0, 59)\n",
    "    return datetime(year=random_year, month=1, day=1, hour=random_hour, minute=random_minute) + timedelta(days=random_day)\n",
    "\n",
    "def generate_train(index):\n",
    "    dep_date = random_date(2010, 2020)\n",
    "    train = {\n",
    "        \"index\": \"train\",\n",
    "        \"id\": index,\n",
    "        \"body\": {\n",
    "            \"train_number\" : fake.random_number(digits=6),\n",
    "            \"train_info\" : generate_seat_types() + \" \" + dep_date.strftime(\"%Y-%m-%dT%H:%M\") + \" \" + \n",
    "                (dep_date + timedelta(days=random.randint(0, 6), hours= random.randint(0, 23), minutes=random.randint(0, 59))).strftime(\"%Y-%m-%dT%H:%M\"),\n",
    "            \"departure\" : fake.city_name(),\n",
    "            \"arrive\": fake.city_name(),\n",
    "            \"tickets_sold\" : 0,\n",
    "            \"tickets_remain\" : fake.random_int(min=100, max=1000)\n",
    "        }\n",
    "    }\n",
    "    return train\n",
    "\n",
    "def generate_trains(num):\n",
    "    trains = []\n",
    "    for i in range(num):\n",
    "        trains.append(generate_train(i+1))\n",
    "    return trains\n",
    "\n",
    "def generate_tickets(num, trains):\n",
    "    tickets = []\n",
    "    for i in range(num):\n",
    "        idx = random.randint(0, len(trains) - 1)\n",
    "        trains[idx]['body']['tickets_sold'] += 1\n",
    "        trains[idx]['body']['tickets_remain'] -= 1\n",
    "        ticket = {\n",
    "            \"index\": \"ticket\",\n",
    "            \"id\": i+1,\n",
    "            \"body\": {\n",
    "                \"user_id\": fake.uuid4(),\n",
    "                \"personal\": fake.name(),\n",
    "                \"date_purchase\": (datetime.strptime(trains[idx]['body']['train_info'].split(\" \")[-2], \"%Y-%m-%dT%H:%M\") \n",
    "                                  - timedelta(days=random.randint(1, 30), hours=random.randint(0, 23), seconds=random.randint(0, 59))).isoformat(),\n",
    "                \"price\": round(random.uniform(500, 20000), 2),\n",
    "                \"train_id\": trains[idx]['id'],\n",
    "            }\n",
    "        }\n",
    "        tickets.append(ticket)\n",
    "    return tickets"
   ]
  },
  {
   "cell_type": "code",
   "execution_count": 6,
   "metadata": {},
   "outputs": [],
   "source": [
    "trains = generate_trains(20)\n",
    "tickets = generate_tickets(30, trains)\n",
    "with open(\"tickets.json\", \"w\") as f:\n",
    "    json.dump(tickets, f, indent=4, ensure_ascii=False)\n",
    "with open(\"trains.json\", \"w\") as f:\n",
    "    json.dump(trains, f, indent=4, ensure_ascii=False)"
   ]
  }
 ],
 "metadata": {
  "kernelspec": {
   "display_name": "Python 3",
   "language": "python",
   "name": "python3"
  },
  "language_info": {
   "codemirror_mode": {
    "name": "ipython",
    "version": 3
   },
   "file_extension": ".py",
   "mimetype": "text/x-python",
   "name": "python",
   "nbconvert_exporter": "python",
   "pygments_lexer": "ipython3",
   "version": "3.10.12"
  },
  "orig_nbformat": 4
 },
 "nbformat": 4,
 "nbformat_minor": 2
}
