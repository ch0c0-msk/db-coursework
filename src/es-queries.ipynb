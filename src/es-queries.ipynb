{
 "cells": [
  {
   "cell_type": "code",
   "execution_count": 7,
   "metadata": {},
   "outputs": [],
   "source": [
    "from elasticsearch import Elasticsearch"
   ]
  },
  {
   "cell_type": "code",
   "execution_count": 8,
   "metadata": {},
   "outputs": [
    {
     "data": {
      "text/plain": [
       "True"
      ]
     },
     "execution_count": 8,
     "metadata": {},
     "output_type": "execute_result"
    }
   ],
   "source": [
    "client = Elasticsearch([{'host': 'localhost', 'port': 9200, 'scheme' : 'http'}])\n",
    "client.ping()"
   ]
  },
  {
   "attachments": {},
   "cell_type": "markdown",
   "metadata": {},
   "source": [
    "# Запрос 1\n",
    "Разбить билеты по дате их приобретения с периодом 1 год, для каждой «корзины» определить количество купленных билетов по каждому поезду"
   ]
  },
  {
   "cell_type": "code",
   "execution_count": 9,
   "metadata": {},
   "outputs": [],
   "source": [
    "indexName = \"ticket\"\n",
    "\n",
    "searchBody = {\n",
    "    \"size\": 100,\n",
    "    \"_source\": True,\n",
    "    \"aggs\": {\n",
    "        \"over_years\": {\n",
    "            \"date_histogram\": {\n",
    "                \"field\": \"date_purchase\",\n",
    "                \"calendar_interval\": \"year\",\n",
    "                \"format\": \"yyyy-MM-dd\"\n",
    "            },\n",
    "            \"aggs\":{\n",
    "                \"trains\": {\n",
    "                    \"terms\": {\n",
    "                        \"field\": \"train_id\"\n",
    "                    }\n",
    "                }\n",
    "            }\n",
    "        }\n",
    "    }\n",
    "}\n",
    "\n",
    "result = client.search(index=indexName, body=searchBody)"
   ]
  },
  {
   "cell_type": "code",
   "execution_count": 10,
   "metadata": {},
   "outputs": [
    {
     "data": {
      "text/plain": [
       "[{'key_as_string': '2010-01-01',\n",
       "  'key': 1262304000000,\n",
       "  'doc_count': 2,\n",
       "  'trains': {'doc_count_error_upper_bound': 0,\n",
       "   'sum_other_doc_count': 0,\n",
       "   'buckets': [{'key': 1, 'doc_count': 2}]}},\n",
       " {'key_as_string': '2011-01-01',\n",
       "  'key': 1293840000000,\n",
       "  'doc_count': 3,\n",
       "  'trains': {'doc_count_error_upper_bound': 0,\n",
       "   'sum_other_doc_count': 0,\n",
       "   'buckets': [{'key': 4, 'doc_count': 2}, {'key': 20, 'doc_count': 1}]}},\n",
       " {'key_as_string': '2012-01-01',\n",
       "  'key': 1325376000000,\n",
       "  'doc_count': 1,\n",
       "  'trains': {'doc_count_error_upper_bound': 0,\n",
       "   'sum_other_doc_count': 0,\n",
       "   'buckets': [{'key': 12, 'doc_count': 1}]}},\n",
       " {'key_as_string': '2013-01-01',\n",
       "  'key': 1356998400000,\n",
       "  'doc_count': 3,\n",
       "  'trains': {'doc_count_error_upper_bound': 0,\n",
       "   'sum_other_doc_count': 0,\n",
       "   'buckets': [{'key': 14, 'doc_count': 2}, {'key': 11, 'doc_count': 1}]}},\n",
       " {'key_as_string': '2014-01-01',\n",
       "  'key': 1388534400000,\n",
       "  'doc_count': 1,\n",
       "  'trains': {'doc_count_error_upper_bound': 0,\n",
       "   'sum_other_doc_count': 0,\n",
       "   'buckets': [{'key': 7, 'doc_count': 1}]}},\n",
       " {'key_as_string': '2015-01-01',\n",
       "  'key': 1420070400000,\n",
       "  'doc_count': 7,\n",
       "  'trains': {'doc_count_error_upper_bound': 0,\n",
       "   'sum_other_doc_count': 0,\n",
       "   'buckets': [{'key': 2, 'doc_count': 6}, {'key': 3, 'doc_count': 1}]}},\n",
       " {'key_as_string': '2016-01-01',\n",
       "  'key': 1451606400000,\n",
       "  'doc_count': 0,\n",
       "  'trains': {'doc_count_error_upper_bound': 0,\n",
       "   'sum_other_doc_count': 0,\n",
       "   'buckets': []}},\n",
       " {'key_as_string': '2017-01-01',\n",
       "  'key': 1483228800000,\n",
       "  'doc_count': 7,\n",
       "  'trains': {'doc_count_error_upper_bound': 0,\n",
       "   'sum_other_doc_count': 0,\n",
       "   'buckets': [{'key': 18, 'doc_count': 5},\n",
       "    {'key': 16, 'doc_count': 1},\n",
       "    {'key': 19, 'doc_count': 1}]}},\n",
       " {'key_as_string': '2018-01-01',\n",
       "  'key': 1514764800000,\n",
       "  'doc_count': 2,\n",
       "  'trains': {'doc_count_error_upper_bound': 0,\n",
       "   'sum_other_doc_count': 0,\n",
       "   'buckets': [{'key': 6, 'doc_count': 2}]}},\n",
       " {'key_as_string': '2019-01-01',\n",
       "  'key': 1546300800000,\n",
       "  'doc_count': 4,\n",
       "  'trains': {'doc_count_error_upper_bound': 0,\n",
       "   'sum_other_doc_count': 0,\n",
       "   'buckets': [{'key': 10, 'doc_count': 3}, {'key': 5, 'doc_count': 1}]}}]"
      ]
     },
     "execution_count": 10,
     "metadata": {},
     "output_type": "execute_result"
    }
   ],
   "source": [
    "result['aggregations']['over_years']['buckets']"
   ]
  },
  {
   "attachments": {},
   "cell_type": "markdown",
   "metadata": {},
   "source": [
    "# Запрос 2\n",
    "Определить поезда, в сведениях которых содержится информация о наличии мест типа «люкс»"
   ]
  },
  {
   "cell_type": "code",
   "execution_count": 11,
   "metadata": {},
   "outputs": [],
   "source": [
    "indexName = \"train\"\n",
    "\n",
    "searchBody = {\n",
    "  \"size\": 100,\n",
    "  \"_source\": True,\n",
    "  \"query\": {\n",
    "    \"match\": {\n",
    "      \"train_info\": \"люкс\"\n",
    "    }\n",
    "  }\n",
    "}\n",
    "\n",
    "result = client.search(index=indexName, body=searchBody)"
   ]
  },
  {
   "cell_type": "code",
   "execution_count": 12,
   "metadata": {},
   "outputs": [
    {
     "data": {
      "text/plain": [
       "14"
      ]
     },
     "execution_count": 12,
     "metadata": {},
     "output_type": "execute_result"
    }
   ],
   "source": [
    "len(result['hits']['hits'])"
   ]
  }
 ],
 "metadata": {
  "kernelspec": {
   "display_name": "Python 3",
   "language": "python",
   "name": "python3"
  },
  "language_info": {
   "codemirror_mode": {
    "name": "ipython",
    "version": 3
   },
   "file_extension": ".py",
   "mimetype": "text/x-python",
   "name": "python",
   "nbconvert_exporter": "python",
   "pygments_lexer": "ipython3",
   "version": "3.10.12"
  },
  "orig_nbformat": 4
 },
 "nbformat": 4,
 "nbformat_minor": 2
}
