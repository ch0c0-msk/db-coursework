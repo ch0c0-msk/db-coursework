{
 "cells": [
  {
   "cell_type": "code",
   "execution_count": 7,
   "metadata": {},
   "outputs": [],
   "source": [
    "from pyspark.sql import SparkSession\n",
    "from pyspark.sql.types import *\n",
    "import findspark\n",
    "findspark.init()"
   ]
  },
  {
   "cell_type": "code",
   "execution_count": 8,
   "metadata": {},
   "outputs": [],
   "source": [
    "sparkSession = SparkSession.builder.appName(\"csv4\").getOrCreate()"
   ]
  },
  {
   "cell_type": "code",
   "execution_count": 9,
   "metadata": {},
   "outputs": [
    {
     "name": "stderr",
     "output_type": "stream",
     "text": [
      "/home/timerlan/.local/lib/python3.10/site-packages/pyspark/sql/dataframe.py:329: FutureWarning: Deprecated in 2.0, use createOrReplaceTempView instead.\n",
      "  warnings.warn(\"Deprecated in 2.0, use createOrReplaceTempView instead.\", FutureWarning)\n"
     ]
    }
   ],
   "source": [
    "data = sparkSession.read.load(\"hdfs://localhost:9000/db-cw/trains.csv\", format=\"csv\",sep=\",\", inferSchema=\"true\", header=\"true\")\n",
    "data.registerTempTable(\"train\")\n",
    "data = sparkSession.read.load(\"hdfs://localhost:9000/db-cw/tickets.csv\", format=\"csv\",sep=\",\", inferSchema=\"true\", header=\"true\")\n",
    "data.registerTempTable(\"ticket\")\n",
    "data = sparkSession.read.load(\"hdfs://localhost:9000/passengers.csv\", format=\"csv\",sep=\",\", inferSchema=\"true\", header=\"true\")\n",
    "data.registerTempTable(\"passenger\")"
   ]
  },
  {
   "cell_type": "code",
   "execution_count": 11,
   "metadata": {},
   "outputs": [
    {
     "name": "stdout",
     "output_type": "stream",
     "text": [
      "+-----------+\n",
      "|total_sales|\n",
      "+-----------+\n",
      "|806918.72  |\n",
      "+-----------+\n",
      "\n"
     ]
    }
   ],
   "source": [
    "res = sparkSession.sql(\"\"\"\n",
    "    select sum(t.price) as total_sales from ticket t\n",
    "    where t.date_purchase >= to_date('2010-01-01', 'yyyy-mm-dd') AND t.date_purchase <= to_date('2015-01-01', 'yyyy-mm-dd')\n",
    "\"\"\")\n",
    "res.show(20, False)"
   ]
  },
  {
   "cell_type": "code",
   "execution_count": 6,
   "metadata": {},
   "outputs": [],
   "source": [
    "sparkSession.stop()"
   ]
  },
  {
   "attachments": {},
   "cell_type": "markdown",
   "metadata": {},
   "source": [
    "### Spark stat\n",
    "\n",
    "== Physical Plan ==\n",
    "AdaptiveSparkPlan (13)\n",
    "+- == Final Plan ==\n",
    "   * HashAggregate (7)\n",
    "   +- ShuffleQueryStage (6), Statistics(sizeInBytes=128.0 B, rowCount=8)\n",
    "      +- Exchange (5)\n",
    "         +- * HashAggregate (4)\n",
    "            +- * Project (3)\n",
    "               +- * Filter (2)\n",
    "                  +- Scan csv  (1)\n",
    "+- == Initial Plan ==\n",
    "   HashAggregate (12)\n",
    "   +- Exchange (11)\n",
    "      +- HashAggregate (10)\n",
    "         +- Project (9)\n",
    "            +- Filter (8)\n",
    "               +- Scan csv  (1)\n",
    "\n",
    "\n",
    "(1) Scan csv \n",
    "Output [2]: [price#158, date_purchase#159]\n",
    "Batched: false\n",
    "Location: InMemoryFileIndex [hdfs://localhost:9000/db-cw/tickets.csv]\n",
    "PushedFilters: [IsNotNull(date_purchase), GreaterThanOrEqual(date_purchase,2010-01-01 00:00:00.0), LessThanOrEqual(date_purchase,2015-01-01 00:00:00.0)]\n",
    "ReadSchema: struct<price:double,date_purchase:timestamp>\n",
    "\n",
    "(2) Filter [codegen id : 1]\n",
    "Input [2]: [price#158, date_purchase#159]\n",
    "Condition : ((isnotnull(date_purchase#159) AND (date_purchase#159 >= 2010-01-01 00:00:00)) AND (date_purchase#159 <= 2015-01-01 00:00:00))\n",
    "\n",
    "(3) Project [codegen id : 1]\n",
    "Output [1]: [price#158]\n",
    "Input [2]: [price#158, date_purchase#159]\n",
    "\n",
    "(4) HashAggregate [codegen id : 1]\n",
    "Input [1]: [price#158]\n",
    "Keys: []\n",
    "Functions [1]: [partial_sum(price#158)]\n",
    "Aggregate Attributes [1]: [sum#206]\n",
    "Results [1]: [sum#207]\n",
    "\n",
    "(5) Exchange\n",
    "Input [1]: [sum#207]\n",
    "Arguments: SinglePartition, ENSURE_REQUIREMENTS, [plan_id=300]\n",
    "\n",
    "(6) ShuffleQueryStage\n",
    "Output [1]: [sum#207]\n",
    "Arguments: 0\n",
    "\n",
    "(7) HashAggregate [codegen id : 2]\n",
    "Input [1]: [sum#207]\n",
    "Keys: []\n",
    "Functions [1]: [sum(price#158)]\n",
    "Aggregate Attributes [1]: [sum(price#158)#201]\n",
    "Results [1]: [toprettystring(sum(price#158)#201, Some(Europe/Moscow)) AS toprettystring(total_sales)#204]\n",
    "\n",
    "(8) Filter\n",
    "Input [2]: [price#158, date_purchase#159]\n",
    "Condition : ((isnotnull(date_purchase#159) AND (date_purchase#159 >= 2010-01-01 00:00:00)) AND (date_purchase#159 <= 2015-01-01 00:00:00))\n",
    "\n",
    "(9) Project\n",
    "Output [1]: [price#158]\n",
    "Input [2]: [price#158, date_purchase#159]\n",
    "\n",
    "(10) HashAggregate\n",
    "Input [1]: [price#158]\n",
    "Keys: []\n",
    "Functions [1]: [partial_sum(price#158)]\n",
    "Aggregate Attributes [1]: [sum#206]\n",
    "Results [1]: [sum#207]\n",
    "\n",
    "(11) Exchange\n",
    "Input [1]: [sum#207]\n",
    "Arguments: SinglePartition, ENSURE_REQUIREMENTS, [plan_id=285]\n",
    "\n",
    "(12) HashAggregate\n",
    "Input [1]: [sum#207]\n",
    "Keys: []\n",
    "Functions [1]: [sum(price#158)]\n",
    "Aggregate Attributes [1]: [sum(price#158)#201]\n",
    "Results [1]: [toprettystring(sum(price#158)#201, Some(Europe/Moscow)) AS toprettystring(total_sales)#204]\n",
    "\n",
    "(13) AdaptiveSparkPlan\n",
    "Output [1]: [toprettystring(total_sales)#204]\n",
    "Arguments: isFinalPlan=true"
   ]
  }
 ],
 "metadata": {
  "kernelspec": {
   "display_name": "Python 3",
   "language": "python",
   "name": "python3"
  },
  "language_info": {
   "codemirror_mode": {
    "name": "ipython",
    "version": 3
   },
   "file_extension": ".py",
   "mimetype": "text/x-python",
   "name": "python",
   "nbconvert_exporter": "python",
   "pygments_lexer": "ipython3",
   "version": "3.10.12"
  },
  "orig_nbformat": 4
 },
 "nbformat": 4,
 "nbformat_minor": 2
}
